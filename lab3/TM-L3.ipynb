{
 "cells": [
  {
   "cell_type": "markdown",
   "metadata": {},
   "source": [
    "## L3: Topic Models\n",
    "### 732A92/TDDE16 Text Mining\n",
    "Måns Magnusson"
   ]
  },
  {
   "cell_type": "markdown",
   "metadata": {},
   "source": [
    "The purpose of this lab is to implement the standard Gibbs sampling algorithm for Latent Dirichlet Allocation in Python. You will be supplied starter code, a smaller corpus with State of the Union addresses for the period 1975 to 2000 by paragraph and a list with English stopwords. The code is implemented as a class, TopicModel, where you are expected to replace central parts of the code with your own implementations."
   ]
  },
  {
   "cell_type": "markdown",
   "metadata": {},
   "source": [
    "### 1. Sampling\n",
    "\n",
    "Implement the basic collapsed Gibbs sampling algorithm for Latent Dirichlet Allocation. Use the starter code and add the components that is missing (the sampler part). We use the fact that \n",
    "\n",
    "$$p(z_{i}=k)\\propto\\left(\\alpha+n_{d,k}^{(d)}\\right)\\frac{\\left(\\beta+n_{k,w_{i}}^{(w)}\\right)}{\\sum^{V}\\left(\\beta+n_{k,w_{i}}^{(w)}\\right)}=\\left(\\alpha+n_{d,k}^{(d)}\\right)\\frac{\\left(\\beta+n_{k,w_{i}}^{(w)}\\right)}{V\\beta+n_{k}}$$\n",
    "\n",
    "to simplify computations, where $K$ is the number of topics, $V$ is the vocabulary size and $D$ is the number of documents. $\\mathbf{n}^{(d)}$ is a count matrix of size $D\\times K$ with the number of topic indicators by document, $d$, and topic $k$, $\\mathbf{n}^{(w)}$ is a count matrix of size $K\\times V$ with the number of topic indicators by topic, $k$, and word type, $w$. $\\mathbf{n}$ is a topic indicator count vector of length $K$ that contain the number of topic indicators in each topic. The detailed algorithm can be found below:"
   ]
  },
  {
   "cell_type": "markdown",
   "metadata": {},
   "source": [
    "__Data:__ tokenized corpus $\\mathbf{w}$, priors $\\alpha, \\beta$ <br>\n",
    "__Result:__ topic indicators $\\mathbf{z}$\n",
    "\n",
    "Init topic indicators $\\mathbf{z}$ randomly per token<br>\n",
    "Init topic probability vector $\\mathbf{p}$<br>\n",
    "Sum up $\\mathbf{z}$ to $\\mathbf{n}^{w}$, the topic type count matrix of size ($K \\times V$)<br>\n",
    "Sum up $\\mathbf{z}$ to $\\mathbf{n}^{d}$, the document topic count matrix of size ($D \\times K$)<br>\n",
    "Sum up $\\mathbf{z}$ to $\\mathbf{n}$, the topic count vector of length ($K$)<br>\n",
    "\n",
    "for $g \\leftarrow 1$ __to__ _no_\\__iterations_ __do__<br>\n",
    "&emsp;&emsp;// Iterate over all tokens<br>\n",
    "&emsp;&emsp;for $i \\leftarrow 1$ __to__ $N$ __do__<br>\n",
    "&emsp;&emsp;&emsp;&emsp;// Remove current topic indicator $z_i$ from $\\mathbf{n}^{w}$, $\\mathbf{n}^{d}$ and $\\mathbf{n}$<br>\n",
    "&emsp;&emsp;&emsp;&emsp;$n^{(w)}_{z_i,w_i}$ =- 1, $n^{(d)}_{d_i,z_i}$ =- 1, $n_{z_i}$ =- 1<br>\n",
    "&emsp;&emsp;&emsp;&emsp;for $k \\leftarrow 1$ __to__ $K$ __do__<br>\n",
    "&emsp;&emsp;&emsp;&emsp;&emsp;&emsp;// Compute the unnormalized probability of each topic indicator<br>\n",
    "&emsp;&emsp;&emsp;&emsp;&emsp;&emsp;$\\mathbf{p}_k \\leftarrow \\left(\\alpha+n_{d,k}^{(d)}\\right)\\frac{\\left(\\beta+n_{k,w_{i}}^{(w)}\\right)}{\\left(V\\beta+n_{k}\\right)}$<br>\n",
    "&emsp;&emsp;&emsp;&emsp;__end__<br>\n",
    "&emsp;&emsp;&emsp;&emsp;// Sample the topic indicator<br>\n",
    "&emsp;&emsp;&emsp;&emsp;$z_i \\leftarrow $ Categorical($\\mathbf{p}$)<br>\n",
    "&emsp;&emsp;&emsp;&emsp;// Add the new topic indicator $z_i$ to $\\mathbf{n}^{w}$, $\\mathbf{n}^{d}$ and $\\mathbf{n}$<br>\n",
    "&emsp;&emsp;&emsp;&emsp;$n^{(w)}_{z_i,w_i}$ =+ 1, $n^{(d)}_{d_i,z_i}$ =+ 1, $n_{z_i}$ =+ 1<br>\n",
    "&emsp;&emsp;__end__<br>\n",
    "__end__"
   ]
  },
  {
   "cell_type": "markdown",
   "metadata": {},
   "source": [
    "For a complete derivation of the collapsed Gibbs sampler for LDA, see https://lingpipe.files.wordpress.com/2010/07/lda3.pdf."
   ]
  },
  {
   "cell_type": "code",
   "execution_count": 1,
   "metadata": {},
   "outputs": [],
   "source": [
    "import numpy, random, scipy.special\n",
    "from tm3 import LDAGibbs\n",
    "\n",
    "class MyGibbs(LDAGibbs):\n",
    "    \n",
    "    def initialize_matrices(self):\n",
    "        \"\"\"Initializes numpy arrays for the matrix computations performed\n",
    "        by the sampler during the MCMC process.\"\"\"\n",
    "        ## Set up numpy matrices\n",
    "        self.term_topics = numpy.zeros((self.num_terms, self.num_topics))\n",
    "        self.doc_topics = numpy.zeros((self.num_docs, self.num_topics))\n",
    "        self.topic_totals = numpy.zeros(self.num_topics)\n",
    "        self.doc_totals = numpy.zeros(self.num_docs)\n",
    "        ## Initialize topics randomly\n",
    "        for doc_id in range(self.num_docs):\n",
    "            doc = self.docs[doc_id]\n",
    "            ## Create an array of random topic assignments\n",
    "            doc['topics'] = list(map(lambda x: random.randrange(self.num_topics), doc['tokens']))\n",
    "            ## Construct the initial summary statistics\n",
    "            doc_length = len(doc['tokens'])\n",
    "            for i in range(doc_length):\n",
    "                token = doc['tokens'][i]\n",
    "                topic = doc['topics'][i]\n",
    "                self.term_topics[token][topic] += 1 # n_wk\n",
    "                self.doc_topics[doc_id][topic] += 1 # n_dk\n",
    "                self.topic_totals[topic] += 1       # n_k\n",
    "                self.doc_totals[doc_id] += 1\n",
    "        ## Printout to check that everything is coherent\n",
    "#         print(sum(sum(self.doc_topics)))\n",
    "#         print(sum(sum(self.term_topics)))\n",
    "#         print(sum(self.topic_totals))\n",
    "#         print(sum(self.doc_totals))\n",
    "    \n",
    "    def read_documents(self, filename):\n",
    "        \"\"\"Reads documents from a file, filters stop words and initializes\n",
    "        the vocabulary. Also converts tokens to integer term IDs.\"\"\"\n",
    "        self.total_tokens = 0\n",
    "        self.vocab = []\n",
    "        self.vocab_ids = {}\n",
    "        with open(filename) as f:\n",
    "            for line in f:\n",
    "                line = line.replace(\".\", \" \").replace(\",\", \" \").lower()\n",
    "                self.num_docs += 1\n",
    "                tokens = []\n",
    "                for w in line.split():\n",
    "                    if not w in self.stoplist:\n",
    "                        self.total_tokens += 1\n",
    "                        if w in self.vocab_ids:\n",
    "                            tokens.append(self.vocab_ids[w])\n",
    "                        else:\n",
    "                            term_id = len(self.vocab)\n",
    "                            self.vocab.append(w)\n",
    "                            self.vocab_ids[w] = term_id\n",
    "                            tokens.append(term_id)\n",
    "                self.doc_snippets.append(line[:200])\n",
    "                self.docs.append({ 'tokens': tokens })\n",
    "        self.num_terms = len(self.vocab)\n",
    "        print(\"Read {} documents with a total of {} terms\".format(self.num_docs, self.num_terms))\n",
    "    \n",
    "    def __init__(self,\n",
    "                 num_topics,\n",
    "                 docs_file_name,\n",
    "                 stop_list_file_name = None):\n",
    "        self.num_topics = num_topics\n",
    "        self.num_docs = 0\n",
    "        self.doc_snippets = []\n",
    "        self.docs = []\n",
    "        ## Prepare list of stopwords\n",
    "        self.stoplist = dict()\n",
    "        if stop_list_file_name != None:\n",
    "            with open(stop_list_file_name) as f:\n",
    "                for line in f:\n",
    "                    word = line.rstrip()\n",
    "                    self.stoplist[word] = 1\n",
    "        self.read_documents(docs_file_name)\n",
    "        self.initialize_matrices()\n",
    "    \n",
    "    def print_topics(self, j):\n",
    "        \"\"\"Prints topic distributions for the.\"\"\"\n",
    "        n_w_t = numpy.array(self.term_topics).T\n",
    "\n",
    "        for topic in range(self.num_topics):\n",
    "            term_ids = numpy.argsort(n_w_t[topic])[::-1][:j]\n",
    "            values = numpy.sort(n_w_t[topic])[::-1][:j]\n",
    "            for term, value in zip(term_ids, values):\n",
    "                print('{} [{}]'.format(self.vocab[term], value), end=' ')\n",
    "            print()\n",
    "            \n",
    "    def make_draw(self, alpha, beta):\n",
    "        \"\"\"Makes a single draw from the posterior distribution in an MCMC fashion.\"\"\"\n",
    "        for doc_id in range(self.num_docs):\n",
    "            doc = self.docs[doc_id]\n",
    "            tokens = doc['tokens']\n",
    "            topics = doc['topics']\n",
    "            for i in range(len(tokens)):\n",
    "                token = tokens[i]\n",
    "                topic = topics[i]\n",
    "                self.term_topics[token][topic] -= 1 # n_w\n",
    "                self.doc_topics[doc_id][topic] -= 1 # n_d\n",
    "                self.topic_totals[topic] -= 1       # n\n",
    "\n",
    "                p = numpy.zeros(self.num_topics)\n",
    "                for k in range(self.num_topics):\n",
    "                    p[k] = (alpha + self.doc_topics[doc_id][k]) * (beta + self.term_topics[token][k]) / (len(self.vocab) * beta + self.topic_totals[k])\n",
    "\n",
    "                p_norm = p / sum(p)\n",
    "                z_i = numpy.flatnonzero(numpy.random.multinomial(1, p_norm))[0]\n",
    "                topics[i] = z_i\n",
    "\n",
    "                self.term_topics[token][z_i] += 1 # n_w\n",
    "                self.doc_topics[doc_id][z_i] += 1 # n_d\n",
    "                self.topic_totals[z_i] += 1       # n\n",
    "    \n",
    "    def compute_logprob(self, alpha, beta):\n",
    "        \"\"\"Computes the log marginal posterior.\"\"\"\n",
    "        return super().compute_logprob(alpha, beta)\n",
    "    \n",
    "    def run(self, num_iterations = 50, alpha = 0.1, beta = 0.01):\n",
    "        self.logprobs = []\n",
    "        for iteration in range(num_iterations):\n",
    "            self.make_draw(alpha, beta)\n",
    "            logprob = self.compute_logprob(alpha, beta)\n",
    "            self.logprobs.append(logprob)\n",
    "            print(\"iteration {}, {}\".format(iteration, logprob))\n",
    "            \n",
    "    def plot(self):\n",
    "        super().plot()\n",
    "        \n",
    "    def new_speech(self, topic, doc_length):\n",
    "        # Sample a row \n",
    "        sample = numpy.random.dirichlet(self.term_topics.T[topic] + 0.5)\n",
    "        print('Topic:', topic)\n",
    "        for i in range(doc_length):\n",
    "            # From the topic sample, draw a word\n",
    "            word_id = numpy.flatnonzero(numpy.random.multinomial(1, sample))[0]\n",
    "            print(self.vocab[word_id], end=' ')\n",
    "        print()\n",
    "    "
   ]
  },
  {
   "cell_type": "markdown",
   "metadata": {},
   "source": [
    "Implement the make_draw function above. You should get behavior very similar to the results from calling the parent class."
   ]
  },
  {
   "cell_type": "code",
   "execution_count": 2,
   "metadata": {},
   "outputs": [
    {
     "name": "stdout",
     "output_type": "stream",
     "text": [
      "Read 2898 documents with a total of 8695 terms\n",
      "iteration 0, -10.369228100069718\n",
      "iteration 1, -9.853709985762704\n",
      "iteration 2, -9.580165103284932\n",
      "iteration 3, -9.42392373726779\n",
      "iteration 4, -9.316593360340654\n",
      "iteration 5, -9.233235410447872\n",
      "iteration 6, -9.15090401220772\n",
      "iteration 7, -9.09298353779537\n",
      "iteration 8, -9.036095400847156\n",
      "iteration 9, -8.995413365064579\n",
      "iteration 10, -8.955300705509218\n",
      "iteration 11, -8.928480960638462\n",
      "iteration 12, -8.89689702971096\n",
      "iteration 13, -8.87251069977787\n",
      "iteration 14, -8.849935654919637\n",
      "iteration 15, -8.821967577988792\n",
      "iteration 16, -8.80562506375255\n",
      "iteration 17, -8.785271615897443\n",
      "iteration 18, -8.766247392012334\n",
      "iteration 19, -8.75136444340813\n",
      "iteration 20, -8.729330904679026\n",
      "iteration 21, -8.714745833630914\n",
      "iteration 22, -8.700861985279921\n",
      "iteration 23, -8.68705526039851\n",
      "iteration 24, -8.674017816894917\n",
      "iteration 25, -8.663928320801263\n",
      "iteration 26, -8.653574785938957\n",
      "iteration 27, -8.640614475063447\n",
      "iteration 28, -8.62683809676078\n",
      "iteration 29, -8.622145083679804\n",
      "iteration 30, -8.606745528249325\n",
      "iteration 31, -8.603107062740206\n",
      "iteration 32, -8.597143513691975\n",
      "iteration 33, -8.584695048141942\n",
      "iteration 34, -8.579573455001809\n",
      "iteration 35, -8.5690477393485\n",
      "iteration 36, -8.560888100721273\n",
      "iteration 37, -8.557603682153779\n",
      "iteration 38, -8.55487661371484\n",
      "iteration 39, -8.548262095870273\n",
      "iteration 40, -8.534916988858988\n",
      "iteration 41, -8.538138316431496\n",
      "iteration 42, -8.53092929830581\n",
      "iteration 43, -8.523793234020296\n",
      "iteration 44, -8.516119232428263\n",
      "iteration 45, -8.51565044360336\n",
      "iteration 46, -8.519723970498765\n",
      "iteration 47, -8.512988620389212\n",
      "iteration 48, -8.500139646067856\n",
      "iteration 49, -8.501736489438578\n",
      "iteration 50, -8.493954133056699\n",
      "iteration 51, -8.493322573204278\n",
      "iteration 52, -8.483644621848056\n",
      "iteration 53, -8.4826136252471\n",
      "iteration 54, -8.482264695358714\n",
      "iteration 55, -8.475898982033785\n",
      "iteration 56, -8.4748722818727\n",
      "iteration 57, -8.469612432433532\n",
      "iteration 58, -8.468728943499862\n",
      "iteration 59, -8.463743766277453\n"
     ]
    }
   ],
   "source": [
    "model = MyGibbs(10, 'sotu_1975_2000.txt', 'stoplist_en.txt')\n",
    "model.run(60)"
   ]
  },
  {
   "cell_type": "markdown",
   "metadata": {},
   "source": [
    "### 2. Top terms\n",
    "Implement the print_topics function to extract the top j largest counts in n (w) by row. This is the most probable word types in each topic."
   ]
  },
  {
   "cell_type": "code",
   "execution_count": 3,
   "metadata": {},
   "outputs": [
    {
     "name": "stdout",
     "output_type": "stream",
     "text": [
      "world [241.0] america [183.0] peace [166.0] war [107.0] security [89.0] years [79.0] strong [78.0] country [77.0] defense [77.0] people [74.0] \n",
      "children [127.0] education [116.0] america [104.0] schools [96.0] congress [95.0] school [75.0] president [65.0] american [63.0] mr [60.0] good [58.0] \n",
      "soviet [143.0] states [142.0] united [139.0] world [126.0] nations [110.0] economic [94.0] international [93.0] countries [88.0] security [71.0] policy [71.0] \n",
      "budget [209.0] tax [198.0] years [197.0] year [183.0] percent [155.0] spending [135.0] growth [126.0] jobs [115.0] million [113.0] federal [108.0] \n",
      "nation [149.0] government [112.0] rights [80.0] economic [79.0] great [79.0] economy [73.0] america [72.0] americans [64.0] ve [57.0] union [56.0] \n",
      "people [239.0] work [213.0] americans [133.0] welfare [119.0] american [112.0] time [101.0] america [101.0] years [100.0] tonight [98.0] make [90.0] \n",
      "world [149.0] america [112.0] freedom [109.0] free [101.0] people [89.0] american [88.0] make [73.0] peace [69.0] future [68.0] nuclear [61.0] \n",
      "federal [205.0] programs [200.0] government [124.0] administration [105.0] system [100.0] congress [93.0] program [93.0] states [73.0] year [67.0] reform [66.0] \n",
      "health [216.0] care [176.0] children [137.0] child [112.0] people [99.0] crime [98.0] year [97.0] families [77.0] insurance [69.0] family [65.0] \n",
      "energy [174.0] congress [136.0] legislation [95.0] act [91.0] nuclear [81.0] administration [80.0] national [71.0] policy [65.0] years [62.0] program [57.0] \n"
     ]
    }
   ],
   "source": [
    "model.print_topics(10)"
   ]
  },
  {
   "cell_type": "markdown",
   "metadata": {},
   "source": [
    "### 3. Explore the data\n",
    "\n",
    "Run your implemention on the State of the Union corpus until convergence with 10 topics, don't forget to remove stop words. Plot the log marginal posterior by the number of iterations. How many iterations do you need until convergence? How do you interpret the topics?\n",
    "\n",
    "[Hint: You can use the plot-function to print the marginal probability for each iteration. To get it working in Jupyter you need to run the command `%matplotlib inline` before plotting the first time.]"
   ]
  },
  {
   "cell_type": "code",
   "execution_count": 4,
   "metadata": {},
   "outputs": [
    {
     "data": {
      "image/png": "[encoded data removed]",
      "text/plain": [
       "<matplotlib.figure.Figure at 0x7fcc12e2e668>"
      ]
     },
     "metadata": {},
     "output_type": "display_data"
    }
   ],
   "source": [
    "%matplotlib inline\n",
    "model.plot()"
   ]
  },
  {
   "cell_type": "markdown",
   "metadata": {},
   "source": [
    "#### Answer here:\n",
    "After about 50 iterations the model converges.\n",
    "\n",
    "The topics seems reasonable. The words within the topics are related.  \n",
    "Usually one topic is about education, children and schools.  \n",
    "Another can be about war, peace, nations, nuclear."
   ]
  },
  {
   "cell_type": "markdown",
   "metadata": {},
   "source": [
    "### 4. Simulate a new State of the Union speech\n",
    "\n",
    "Write a function new_speech in the MyGibbs class to use the estimated values for $\\Phi$ from your model (with stopwords removed) to simulate a new State of the Union speech. Start out by simulating $\\theta d \\sim Dir(\\alpha = 0.5)$ and then simulate your document. Does it make sense? Why, why not?"
   ]
  },
  {
   "cell_type": "code",
   "execution_count": 5,
   "metadata": {},
   "outputs": [
    {
     "name": "stdout",
     "output_type": "stream",
     "text": [
      "Topic: 0\n",
      "contemplates fundamental firmer science bases ville peace long stable cohesion \n",
      "\n",
      "Topic: 1\n",
      "back equipping fellow operation starts scowcroft century scowcroft schools aroused \n",
      "\n",
      "Topic: 2\n",
      "declare indian security agricultural solutions interest period trade presence number \n",
      "\n",
      "Topic: 3\n",
      "preserving achieveable electoral trace budget credit substantial running principal defense \n",
      "\n",
      "Topic: 4\n",
      "flood ve develop union aggressively national links government home inquiries \n",
      "\n",
      "Topic: 5\n",
      "america meaner convincing 50 ago books nations $63 aren opportunity \n",
      "\n",
      "Topic: 6\n",
      "explore trade eighty furtherance springboard hallowed jeopardizing cherry china peace \n",
      "\n",
      "Topic: 7\n",
      "doctrinal occur demonstration devastated number additional fund eligible agree sensitive \n",
      "\n",
      "Topic: 8\n",
      "service ritter wasn ways generosity reactor loving enrich helping grade \n",
      "\n",
      "Topic: 9\n",
      "improve act live accounts interest nuclear technologies unwinding similar prodigy \n",
      "\n"
     ]
    }
   ],
   "source": [
    "for topic in range(model.num_topics):\n",
    "    model.new_speech(topic, 10)\n",
    "    print()"
   ]
  },
  {
   "cell_type": "markdown",
   "metadata": {},
   "source": [
    "#### Answer here:\n",
    "It is very bad because we dont look at the previous word and will not create coherent sentences. The speeches are all gibberish. "
   ]
  },
  {
   "cell_type": "markdown",
   "metadata": {},
   "source": [
    "### Bonus assignment:\n",
    "\n",
    "To get better understanding of the underlying model, you might want to implement your own function to compute the log marginal posterior. If so, implement the compute_logprob function.\n",
    "\n",
    "$$\\begin{align}\n",
    "\\log p(\\mathbf{z}|\\mathbf{w}) =& \\log\\prod^{K}p(\\mathbf{w}|\\mathbf{z},\\beta)\\prod^{D}p(\\mathbf{z}|\\alpha) \\\\\n",
    "=& \\sum^{K}\\log\\left[\\frac{\\Gamma\\left(\\sum^{V}\\beta\\right)}{\\prod^{V}\\Gamma\\left(\\beta\\right)}\\frac{\\prod^{V}\\Gamma\\left(n_{kv}^{(w)}+\\beta\\right)}{\\Gamma(\\sum^{V}n_{kv}^{(w)}+\\beta)}\\right]+\\sum^{D}\\log\\left[\\frac{\\Gamma\\left(\\sum^{K}\\alpha\\right)}{\\prod^{K}\\Gamma\\left(\\alpha\\right)}\\frac{\\prod^{K}\\Gamma\\left(n_{dk}^{(d)}+\\alpha\\right)}{\\Gamma(\\sum^{K}n_{dk}^{(d)}+\\alpha)}\\right] \\\\\n",
    "=& K\\log\\Gamma\\left(V\\beta\\right)-KV\\log\\Gamma\\left(\\beta\\right)+\\sum^{K}\\sum^{V}\\log\\Gamma\\left(n_{kv}^{(w)}+\\beta\\right)-\\sum^{K}\\log\\Gamma(\\sum^{V}n_{kv}^{(w)}+\\beta)\\\\\n",
    "&+ D\\log\\Gamma\\left(K\\alpha\\right)-DK\\log\\Gamma\\left(\\alpha\\right)+\\sum^{D}\\sum^{K}\\log\\Gamma\\left(n_{dk}^{(d)}+\\alpha\\right)-\\sum^{D}\\log\\Gamma(\\sum^{K}n_{dk}^{(d)}+\\alpha)\n",
    "\\end{align}$$\n",
    "\n",
    "In Python, use `scipy.special.gammaln` for $\\log\\Gamma(x)$ (if you run into problems, you might try `math.lgamma` instead)."
   ]
  }
 ],
 "metadata": {
  "kernelspec": {
   "display_name": "Python 3",
   "language": "python",
   "name": "python3"
  },
  "language_info": {
   "codemirror_mode": {
    "name": "ipython",
    "version": 3
   },
   "file_extension": ".py",
   "mimetype": "text/x-python",
   "name": "python",
   "nbconvert_exporter": "python",
   "pygments_lexer": "ipython3",
   "version": "3.4.3"
  }
 },
 "nbformat": 4,
 "nbformat_minor": 2
}
